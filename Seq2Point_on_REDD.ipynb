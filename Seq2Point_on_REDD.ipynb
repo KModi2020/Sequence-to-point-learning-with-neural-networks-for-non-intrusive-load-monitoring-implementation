{
 "cells": [
  {
   "cell_type": "markdown",
   "metadata": {},
   "source": [
    "# Importing Libraries"
   ]
  },
  {
   "cell_type": "code",
   "execution_count": 556,
   "metadata": {},
   "outputs": [],
   "source": [
    "import numpy as np\n",
    "import pandas as pd\n",
    "import os\n",
    "import nilmtk\n",
    "from nilmtk import DataSet\n",
    "from nilmtk.utils import print_dict\n",
    "import matplotlib.pyplot as plt\n",
    "import keras\n",
    "import statistics\n",
    "from sklearn.model_selection import train_test_split\n",
    "from sklearn import preprocessing\n",
    "import tensorflow as tf"
   ]
  },
  {
   "cell_type": "markdown",
   "metadata": {
    "scrolled": true
   },
   "source": [
    "# Loading the mains and Fridge data "
   ]
  },
  {
   "cell_type": "code",
   "execution_count": 528,
   "metadata": {},
   "outputs": [
    {
     "name": "stdout",
     "output_type": "stream",
     "text": [
      "Loading data for meter ElecMeterID(instance=2, building=1, dataset='REDD')     \n",
      "Done loading data all meters for this chunk.\n"
     ]
    }
   ],
   "source": [
    "#loading the mains and Fridge data \n",
    "iawe = DataSet(r'C:\\Users\\HomePC\\Downloads\\redd.h5')\n",
    "mains_df=next(iawe.buildings[1].elec.mains().load())\n",
    "\n",
    "#appliance here is fridge\n",
    "appliance_df=next(iawe.buildings[1].elec['fridge'].load())"
   ]
  },
  {
   "cell_type": "markdown",
   "metadata": {},
   "source": [
    "# Resampling the data to 1 min to handle missinng data"
   ]
  },
  {
   "cell_type": "code",
   "execution_count": 529,
   "metadata": {},
   "outputs": [],
   "source": [
    "mains_df=mains_df.resample('1min').mean()\n",
    "appliance_df=appliance_df.resample('1min').mean()"
   ]
  },
  {
   "cell_type": "markdown",
   "metadata": {},
   "source": [
    "# Convering the data to dictionary format"
   ]
  },
  {
   "cell_type": "code",
   "execution_count": 530,
   "metadata": {},
   "outputs": [],
   "source": [
    "mdf=mains_df.to_dict()\n",
    "adf=appliance_df.to_dict()\n",
    "\n",
    "appliance_times=list(adf[('power', 'active')].keys())\n",
    "appliance_powers=list(adf[('power', 'active')].values())\n",
    "\n",
    "mains_times=list(mdf[('power', 'apparent')].keys())\n",
    "mains_powers=list(mdf[('power', 'apparent')].values())"
   ]
  },
  {
   "cell_type": "markdown",
   "metadata": {},
   "source": [
    "Keeping the data for only for timestamps that are present in both mains anad appliance"
   ]
  },
  {
   "cell_type": "code",
   "execution_count": 531,
   "metadata": {},
   "outputs": [],
   "source": [
    "# Creating a parallel data using matching time-stamps\n",
    "common_mains=[]\n",
    "common_fridge=[]\n",
    "i=0\n",
    "j=0\n",
    "while i<len(appliance_times)-1:\n",
    "    while j<len(mains_times)-1:\n",
    "        if appliance_times[i]==mains_times[j]:\n",
    "            common_mains.append(mains_powers[i])\n",
    "            common_fridge.append(appliance_powers[i])\n",
    "            i+=1\n",
    "            j+=1\n",
    "        else:\n",
    "            j+=1\n",
    "            pass\n"
   ]
  },
  {
   "cell_type": "markdown",
   "metadata": {},
   "source": [
    "# Cleaning to replace the nan value with the previous value"
   ]
  },
  {
   "cell_type": "code",
   "execution_count": 532,
   "metadata": {},
   "outputs": [],
   "source": [
    "for i in range(len(common_mains)):\n",
    "        \n",
    "    if type(common_mains[i])==float:\n",
    "        if np.isnan(common_mains[i])==True:\n",
    "            common_mains[i]=common_mains[i-1]\n",
    "            \n",
    "    if type(common_fridge[i])==float:\n",
    "        if np.isnan(common_fridge[i])==True:\n",
    "            common_fridge[i]=common_fridge[i-1]"
   ]
  },
  {
   "cell_type": "markdown",
   "metadata": {},
   "source": [
    "# Normalizing to zero mean and unit variance"
   ]
  },
  {
   "cell_type": "code",
   "execution_count": 533,
   "metadata": {},
   "outputs": [],
   "source": [
    "#function to calculate variance\n",
    "def variance(data):\n",
    "    n = len(data)\n",
    "    mean = sum(data) / n\n",
    "    return sum((x - mean) ** 2 for x in data) / n"
   ]
  },
  {
   "cell_type": "code",
   "execution_count": 534,
   "metadata": {},
   "outputs": [],
   "source": [
    "#calculating mean, variance and standard deviation\n",
    "\n",
    "mains_mean=statistics.mean(common_mains)\n",
    "fridge_mean=statistics.mean(common_fridge)\n",
    "\n",
    "mains_variance=variance(common_mains)\n",
    "mains_st_deviation=(mains_variance)**0.5\n",
    "\n",
    "fridge_variance=variance(common_fridge)\n",
    "fridge_st_deviation=(fridge_variance)**0.5"
   ]
  },
  {
   "cell_type": "code",
   "execution_count": 535,
   "metadata": {},
   "outputs": [],
   "source": [
    "#normalizing the data by subtracting mean and dividing by Standard deviation\n",
    "\n",
    "normalized_mains=[(common_mains[i]-mains_mean)/mains_st_deviation for i in range(len(common_mains))]\n",
    "normalized_fridge=[(common_fridge[i]-fridge_mean)/fridge_st_deviation for i in range(len(common_fridge))]\n"
   ]
  },
  {
   "cell_type": "code",
   "execution_count": null,
   "metadata": {},
   "outputs": [],
   "source": []
  },
  {
   "cell_type": "markdown",
   "metadata": {},
   "source": [
    "# Splitting the sequential data to 599 length input (window legth) for training and mapping to the midpoint of the window frame (output)"
   ]
  },
  {
   "cell_type": "code",
   "execution_count": 549,
   "metadata": {},
   "outputs": [],
   "source": [
    "common_fridge=normalized_fridge\n",
    "common_mains=normalized_mains"
   ]
  },
  {
   "cell_type": "code",
   "execution_count": 550,
   "metadata": {},
   "outputs": [],
   "source": [
    "#splitting the input to windows\n",
    "X_train=[]\n",
    "for i in range(len(common_mains)):\n",
    "    try:\n",
    "        X_train.append(common_mains[i:i+599])\n",
    "    except:\n",
    "        break        \n",
    "X_train=X_train[:len(X_train)-598]"
   ]
  },
  {
   "cell_type": "code",
   "execution_count": 551,
   "metadata": {},
   "outputs": [],
   "source": [
    "# taking the appliance reading for the mid point of window timeframe as output\n",
    "Y_train=common_fridge[299:]\n",
    "Y_train=Y_train[:len(Y_train)-299]"
   ]
  },
  {
   "cell_type": "code",
   "execution_count": 552,
   "metadata": {},
   "outputs": [],
   "source": [
    "#keeping high test size(0.8) so as to have smaller train data for faster training\n",
    "\n",
    "X_train, X_test, Y_train, Y_test = train_test_split(X_train, Y_train, test_size=0.8, random_state=942)\n",
    "\n",
    "X_train=np.array(X_train)\n",
    "Y_train=np.array(Y_train)\n",
    "X_test=np.array(X_test)\n",
    "Y_test=np.array(Y_test)"
   ]
  },
  {
   "cell_type": "code",
   "execution_count": 553,
   "metadata": {},
   "outputs": [],
   "source": [
    "# reshaping so as to fit for the model requirements \n",
    "X_train=np.reshape(X_train,(X_train.shape[0],599,1))\n",
    "Y_train=np.reshape(Y_train,(Y_train.shape[0],1))\n",
    "\n",
    "# taking the first 10000 test values for validation\n",
    "X_test=X_test[:10000]\n",
    "Y_test=Y_test[:10000]\n",
    "\n",
    "X_test=np.reshape(X_test,(10000,599,1))\n",
    "Y_test=np.reshape(Y_test,(10000,1))"
   ]
  },
  {
   "cell_type": "markdown",
   "metadata": {},
   "source": [
    "# Training\n"
   ]
  },
  {
   "cell_type": "markdown",
   "metadata": {},
   "source": [
    "Model architecture"
   ]
  },
  {
   "cell_type": "code",
   "execution_count": 280,
   "metadata": {},
   "outputs": [],
   "source": [
    "from keras.models import Sequential\n",
    "from keras.layers import Dense, Conv1D, Flatten\n",
    "#create model\n",
    "model = Sequential()\n",
    "\n",
    "\n",
    "model.add(Conv1D(filters=30,kernel_size=10, activation='relu',strides=1,  input_shape=( 599,1)  ) )\n",
    "model.add(Conv1D(filters=30,kernel_size=8, activation='relu',strides=1))\n",
    "model.add(Conv1D(filters=40,kernel_size=6, activation='relu',strides=1))\n",
    "model.add(Conv1D(filters=50,kernel_size=5, activation='relu',strides=1))\n",
    "model.add(Conv1D(filters=50,kernel_size=5, activation='relu',strides=1))\n",
    "model.add(Flatten())\n",
    "\n",
    "model.add(Dense( units=1024, activation='linear'))\n",
    "model.add(Dense( units=1, activation='linear'))"
   ]
  },
  {
   "cell_type": "code",
   "execution_count": 281,
   "metadata": {},
   "outputs": [],
   "source": [
    "#compile model using accuracy to measure model performance\n",
    "model.compile(optimizer='adam', loss='mae', metrics=[tf.keras.metrics.MeanSquaredError()] )"
   ]
  },
  {
   "cell_type": "markdown",
   "metadata": {},
   "source": [
    "Training "
   ]
  },
  {
   "cell_type": "code",
   "execution_count": 562,
   "metadata": {},
   "outputs": [
    {
     "name": "stdout",
     "output_type": "stream",
     "text": [
      "Train on 10327 samples, validate on 10000 samples\n",
      "Epoch 1/3\n",
      "10327/10327 [==============================] - 164s 16ms/step - loss: 0.3656 - mean_squared_error: 0.8362 - val_loss: 0.3805 - val_mean_squared_error: 0.8335\n",
      "Epoch 2/3\n",
      "10327/10327 [==============================] - 180s 17ms/step - loss: 0.3633 - mean_squared_error: 0.8313 - val_loss: 0.3821 - val_mean_squared_error: 0.8287\n",
      "Epoch 3/3\n",
      "10327/10327 [==============================] - 176s 17ms/step - loss: 0.3610 - mean_squared_error: 0.8264 - val_loss: 0.3809 - val_mean_squared_error: 0.8242\n"
     ]
    }
   ],
   "source": [
    "m=model.fit(X_train, Y_train, validation_data=(X_test, Y_test), epochs=3) "
   ]
  },
  {
   "cell_type": "markdown",
   "metadata": {},
   "source": [
    "# Results and analysis"
   ]
  },
  {
   "cell_type": "code",
   "execution_count": 563,
   "metadata": {},
   "outputs": [],
   "source": [
    "#calulating the predictions on the test set\n",
    "normalized_predictions=model.predict(X_test)\n",
    "normalized_actual=Y_test\n",
    "\n",
    "\n",
    "# Un-normalizing to bring the predictions to the original scale by miltiplying with standard deviation and adding with the mean\n",
    "predictions=(normalized_predictions*fridge_st_deviation)+fridge_mean\n",
    "actual=(normalized_actual*fridge_st_deviation)+fridge_mean\n",
    "\n"
   ]
  },
  {
   "cell_type": "markdown",
   "metadata": {},
   "source": [
    "Calculating the mean absolute error and squared mean root error"
   ]
  },
  {
   "cell_type": "code",
   "execution_count": 564,
   "metadata": {},
   "outputs": [
    {
     "name": "stdout",
     "output_type": "stream",
     "text": [
      "Mean Absolute error is: 31.840722472453116\n",
      "Squared mean root error is: 13.190723406092406\n"
     ]
    },
    {
     "data": {
      "text/plain": [
       "'The Squared mean root error is much lesser than the absolute error.This shows that the outliers are pushing the Absolute error.'"
      ]
     },
     "execution_count": 564,
     "metadata": {},
     "output_type": "execute_result"
    }
   ],
   "source": [
    "y_diff=np.subtract(predictions,actual)\n",
    "abs_errors=abs(y_diff)\n",
    "mean_abs_error=sum((abs_errors))/len(abs_errors)\n",
    "mean_abs_error=mean_abs_error[0]\n",
    "print(\"Mean Absolute error is:\",mean_abs_error)\n",
    "\n",
    "mean_root_error=sum((abs_errors)**0.5)/len(abs_errors)\n",
    "mean_root_error=mean_root_error[0]\n",
    "print(\"Squared mean root error is:\",mean_root_error**2)\n",
    "'''The Squared mean root error is much lesser than the absolute error.This shows that the outliers are pushing the Absolute error.'''"
   ]
  },
  {
   "cell_type": "code",
   "execution_count": 570,
   "metadata": {},
   "outputs": [
    {
     "data": {
      "image/png": "[encoded data removed]",
      "text/plain": [
       "<Figure size 432x288 with 1 Axes>"
      ]
     },
     "metadata": {},
     "output_type": "display_data"
    }
   ],
   "source": [
    "actual=actual.reshape([len(actual)])\n",
    "predictions=predictions.reshape([len(predictions)])\n",
    "Y1 = actual[30:40]\n",
    "Y2 = predictions[30:40]\n",
    "\n",
    "X_axis = np.arange(len(Y1))\n",
    "  \n",
    "plt.bar(X_axis - 0.2, Y1, 0.4, label = 'Actual')\n",
    "plt.bar(X_axis + 0.2, Y2, 0.4, label = 'Predicted')\n",
    "  \n",
    "# plt.xticks(X_axis, X)\n",
    "# plt.xlabel(\"Groups\")\n",
    "plt.ylabel(\"Values\")\n",
    "plt.title(\"Actual vs Predicted Fridge readings\")\n",
    "plt.legend()\n",
    "plt.show()\n"
   ]
  },
  {
   "cell_type": "markdown",
   "metadata": {},
   "source": [
    "# Observation "
   ]
  },
  {
   "cell_type": "markdown",
   "metadata": {},
   "source": [
    "The Squared mean root error is much lesser than the absolute error. This shows that the outliers are pushing the Absolute error. This seems to be the case because the model has been trained on mean absolute error as loss function and probably mean square error would have performed better."
   ]
  }
 ],
 "metadata": {
  "kernelspec": {
   "display_name": "Python 3",
   "language": "python",
   "name": "python3"
  },
  "language_info": {
   "codemirror_mode": {
    "name": "ipython",
    "version": 3
   },
   "file_extension": ".py",
   "mimetype": "text/x-python",
   "name": "python",
   "nbconvert_exporter": "python",
   "pygments_lexer": "ipython3",
   "version": "3.7.10"
  }
 },
 "nbformat": 4,
 "nbformat_minor": 2
}
